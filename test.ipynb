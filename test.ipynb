{
 "cells": [
  {
   "cell_type": "code",
   "execution_count": 31,
   "metadata": {},
   "outputs": [
    {
     "name": "stderr",
     "output_type": "stream",
     "text": [
      "[nltk_data] Downloading package punkt to\n",
      "[nltk_data]     C:\\Users\\risha\\AppData\\Roaming\\nltk_data...\n",
      "[nltk_data]   Unzipping tokenizers\\punkt.zip.\n"
     ]
    },
    {
     "name": "stdout",
     "output_type": "stream",
     "text": [
      "['NLTK', 'is', 'a', 'powerful', 'library', 'for', 'natural', 'language', 'processing', '.']\n"
     ]
    }
   ],
   "source": [
    "import nltk\n",
    "from nltk.tokenize import word_tokenize\n",
    "\n",
    "# Example sentence\n",
    "nltk.download('punkt')\n",
    "sentence = \"NLTK is a powerful library for natural language processing.\"\n",
    "\n",
    "# Tokenize the sentence into words\n",
    "tokens = word_tokenize(sentence)\n",
    "\n",
    "# Print the tokens\n",
    "print(tokens)\n"
   ]
  },
  {
   "cell_type": "code",
   "execution_count": 40,
   "metadata": {},
   "outputs": [
    {
     "name": "stdout",
     "output_type": "stream",
     "text": [
      "                                                                                                                                     Tweets                                                                                                                                                                                                                                                                                                                                                                                                                                                                                                                                                                                                 Paragraphs\n",
      "0                            Just witnessed the most beautiful sunset. Nature truly knows how to paint the sky. #breathtaking #naturelovers                                         Technology has revolutionized the way we live, work, and communicate. From smartphones and social media to artificial intelligence and virtual reality, we are constantly surrounded by technological advancements. These innovations have improved our productivity, efficiency, and access to information. However, they have also raised concerns about privacy, cybersecurity, and the impact on jobs. As technology continues to evolve at a rapid pace, it is crucial for us to adapt and harness its potential while addressing the challenges it presents.\n",
      "1  Feeling disappointed that my favorite team lost the game, but there's always the next match. Keeping the faith! #SportsFan #NeverGiveUp\"                       Climate change is one of the most pressing issues facing our planet today. The burning of fossil fuels, deforestation, and industrial activities have led to a significant increase in greenhouse gas emissions, resulting in rising global temperatures and changing weather patterns. The consequences of climate change are far-reaching, affecting ecosystems, agriculture, and human health. Urgent action is needed to mitigate the impacts of climate change through the adoption of renewable energy sources, sustainable land use practices, and international cooperation.\n",
      "2                         Feeling incredibly grateful for all the amazing people in my life who support and inspire me. #gratitude #blessed  Space exploration has captivated human imagination for centuries. From the first human landing on the moon to the discovery of exoplanets in distant galaxies, our quest to understand the universe has yielded remarkable achievements. Space exploration not only expands our knowledge of the cosmos but also drives technological advancements on Earth. It has led to the development of satellite communications, GPS systems, and medical innovations. As we continue to explore the mysteries of space, we unlock new possibilities and gain a deeper understanding of our place in the universe.\n",
      "3    Just finished reading this book and I'm blown away. Highly recommend it to anyone looking for a captivating story. #bookworm #mustread   Mental health is a critical aspect of overall well-being. It encompasses our emotional, psychological, and social well-being and affects how we think, feel, and act. Mental health disorders, such as depression, anxiety, and bipolar disorder, are common and can have a significant impact on individuals and their families. It is important to prioritize mental health and promote awareness, early intervention, and access to mental health services. By reducing stigma and providing support, we can ensure that everyone has the opportunity to lead a mentally healthy and fulfilling life.\n",
      "4                                   It's Friday! Time to unwind, relax, and enjoy the weekend. Let the good times roll! #TGIF #weekendvibes               Sustainable development is an approach that seeks to meet the needs of the present without compromising the ability of future generations to meet their own needs. It involves finding a balance between economic growth, social development, and environmental protection. Sustainable development aims to address global challenges such as poverty, inequality, climate change, and biodiversity loss. By adopting sustainable practices in areas such as energy, transportation, and agriculture, we can create a more equitable and resilient world for current and future generations.\n"
     ]
    }
   ],
   "source": [
    "import pandas as pd\n",
    "import yake\n",
    "import numpy as np\n",
    "pd.set_option('display.max_columns', None)\n",
    "pd.set_option('display.expand_frame_repr', False)\n",
    "pd.set_option('max_colwidth', 800)\n",
    "pd.set_option('display.expand_frame_repr', False)\n",
    "\n",
    "# Read the CSV file into a pandas DataFrame\n",
    "df = pd.read_csv(r'assets/Test data.csv', encoding= 'unicode_escape')\n",
    "print(df.head())"
   ]
  },
  {
   "cell_type": "code",
   "execution_count": 41,
   "metadata": {},
   "outputs": [
    {
     "data": {
      "text/plain": [
       "Tweets        object\n",
       "Paragraphs    object\n",
       "dtype: object"
      ]
     },
     "execution_count": 41,
     "metadata": {},
     "output_type": "execute_result"
    }
   ],
   "source": [
    "df.dtypes"
   ]
  },
  {
   "cell_type": "code",
   "execution_count": 42,
   "metadata": {},
   "outputs": [
    {
     "data": {
      "text/plain": [
       "Paragraphs    object\n",
       "dtype: object"
      ]
     },
     "execution_count": 42,
     "metadata": {},
     "output_type": "execute_result"
    }
   ],
   "source": [
    "df[['Paragraphs']].dtypes"
   ]
  },
  {
   "cell_type": "code",
   "execution_count": 43,
   "metadata": {},
   "outputs": [],
   "source": [
    "def keywordExtractor(text):\n",
    "    language = \"en\"\n",
    "    max_ngram_size = 3\n",
    "    deduplication_threshold = 0.9\n",
    "    deduplication_algo = 'seqm'\n",
    "    windowSize = 1\n",
    "    numOfKeywords = 20\n",
    "    custom_kw_extractor = yake.KeywordExtractor(lan=language, \n",
    "                                               n=max_ngram_size, \n",
    "                                               dedupLim=deduplication_threshold, \n",
    "                                               dedupFunc=deduplication_algo, \n",
    "                                               windowsSize=windowSize, \n",
    "                                               top=numOfKeywords, \n",
    "                                               features=None)\n",
    "    keywords = custom_kw_extractor.extract_keywords(text)\n",
    "    return keywords"
   ]
  },
  {
   "cell_type": "code",
   "execution_count": 44,
   "metadata": {},
   "outputs": [
    {
     "data": {
      "text/plain": [
       "0                                                                                                                                                                                                                                                                 Technology has revolutionized the way we live, work, and communicate. From smartphones and social media to artificial intelligence and virtual reality, we are constantly surrounded by technological advancements. These innovations have improved our productivity, efficiency, and access to information. However, they have also raised concerns about privacy, cybersecurity, and the impact on jobs. As technology continues to evolve at a rapid pace, it is crucial for us to adapt and harness its potential while addressing the challenges it presents.\n",
       "1                                                                                                                                                                                                                                               Climate change is one of the most pressing issues facing our planet today. The burning of fossil fuels, deforestation, and industrial activities have led to a significant increase in greenhouse gas emissions, resulting in rising global temperatures and changing weather patterns. The consequences of climate change are far-reaching, affecting ecosystems, agriculture, and human health. Urgent action is needed to mitigate the impacts of climate change through the adoption of renewable energy sources, sustainable land use practices, and international cooperation.\n",
       "2                                                                                                                                                                                                                          Space exploration has captivated human imagination for centuries. From the first human landing on the moon to the discovery of exoplanets in distant galaxies, our quest to understand the universe has yielded remarkable achievements. Space exploration not only expands our knowledge of the cosmos but also drives technological advancements on Earth. It has led to the development of satellite communications, GPS systems, and medical innovations. As we continue to explore the mysteries of space, we unlock new possibilities and gain a deeper understanding of our place in the universe.\n",
       "3                                                                                                                                                                                                                           Mental health is a critical aspect of overall well-being. It encompasses our emotional, psychological, and social well-being and affects how we think, feel, and act. Mental health disorders, such as depression, anxiety, and bipolar disorder, are common and can have a significant impact on individuals and their families. It is important to prioritize mental health and promote awareness, early intervention, and access to mental health services. By reducing stigma and providing support, we can ensure that everyone has the opportunity to lead a mentally healthy and fulfilling life.\n",
       "4                                                                                                                                                                                                                                       Sustainable development is an approach that seeks to meet the needs of the present without compromising the ability of future generations to meet their own needs. It involves finding a balance between economic growth, social development, and environmental protection. Sustainable development aims to address global challenges such as poverty, inequality, climate change, and biodiversity loss. By adopting sustainable practices in areas such as energy, transportation, and agriculture, we can create a more equitable and resilient world for current and future generations.\n",
       "5                                                                                                                                                                                                                  Artificial intelligence (AI) has emerged as a transformative technology, enabling machines to perform tasks that traditionally required human intelligence. AI algorithms can analyze vast amounts of data, recognize patterns, and make predictions with remarkable accuracy. Applications of AI range from virtual assistants and autonomous vehicles to medical diagnosis and financial forecasting. However, ethical considerations surrounding AI, such as transparency, bias, and job displacement, need to be carefully addressed to ensure responsible and beneficial integration of AI into our society.\n",
       "6                                                                                                                                                                                                                                                     Genetic engineering has revolutionized the field of biology by allowing scientists to manipulate the DNA of organisms. This technology offers unprecedented opportunities to modify genetic traits, develop new medicines, and enhance agricultural productivity. From genetically modified crops to gene therapy for genetic diseases, genetic engineering has the potential to reshape various aspects of our lives. However, it also raises ethical concerns regarding the potential misuse or unintended consequences of altering the fundamental building blocks of life.\n",
       "7                                                                                                                                                                                                                                                                                         In an increasingly interconnected world, cybersecurity has become a paramount concern. The proliferation of digital technologies and the internet have made individuals, organizations, and governments vulnerable to cyber threats. Cybersecurity involves protecting computer systems, networks, and data from unauthorized access, theft, or damage. With the rise of sophisticated cyber attacks, safeguarding sensitive information and ensuring the privacy and integrity of digital infrastructure have become critical priorities.\n",
       "8    \\nArtificial Intelligence (AI) is a rapidly advancing field of technology that aims to develop intelligent machines capable of performing tasks that traditionally required human intelligence. It encompasses a wide range of disciplines, including machine learning, natural language processing, computer vision, and robotics. AI systems are designed to perceive their environment, reason, learn from data, and make informed decisions or take actions based on that informationMachine learning is a key component of AI, enabling machines to learn from experience and improve their performance over time without being explicitly programmed. By analyzing vast amounts of data, AI algorithms can identify patterns, extract insights, and make predictions or recommendations. This capability has led to si...\n",
       "9                                                                                                                                                                           Blockchain technology is a decentralized and transparent system that allows for secure and immutable transactions. Originally developed for cryptocurrencies like Bitcoin, blockchain has found applications beyond finance. It has the potential to transform industries such as supply chain management, healthcare, and voting systems. By creating a tamper-proof and trustless environment, blockchain technology enhances transparency, efficiency, and accountability. However, challenges such as scalability, energy consumption, and regulatory frameworks need to be addressed for widespread adoption and realization of its full potential.\n",
       "Name: Paragraphs, dtype: object"
      ]
     },
     "execution_count": 44,
     "metadata": {},
     "output_type": "execute_result"
    }
   ],
   "source": [
    "df['Paragraphs']"
   ]
  },
  {
   "cell_type": "code",
   "execution_count": 37,
   "metadata": {},
   "outputs": [],
   "source": [
    "df['Keyword Extraction'+' '+'Paragraphs'] = df['Paragraphs'].apply(lambda x: keywordExtractor(x))"
   ]
  },
  {
   "cell_type": "code",
   "execution_count": 38,
   "metadata": {},
   "outputs": [
    {
     "data": {
      "text/html": [
       "<div>\n",
       "<style scoped>\n",
       "    .dataframe tbody tr th:only-of-type {\n",
       "        vertical-align: middle;\n",
       "    }\n",
       "\n",
       "    .dataframe tbody tr th {\n",
       "        vertical-align: top;\n",
       "    }\n",
       "\n",
       "    .dataframe thead th {\n",
       "        text-align: right;\n",
       "    }\n",
       "</style>\n",
       "<table border=\"1\" class=\"dataframe\">\n",
       "  <thead>\n",
       "    <tr style=\"text-align: right;\">\n",
       "      <th></th>\n",
       "      <th>Tweets</th>\n",
       "      <th>Paragraphs</th>\n",
       "      <th>Keyword Extraction Paragraphs</th>\n",
       "    </tr>\n",
       "  </thead>\n",
       "  <tbody>\n",
       "    <tr>\n",
       "      <th>0</th>\n",
       "      <td>Just witnessed the most beautiful sunset. Natu...</td>\n",
       "      <td>Technology has revolutionized the way we live,...</td>\n",
       "      <td>[(work, 0.08258108170856804), (live, 0.1091471...</td>\n",
       "    </tr>\n",
       "    <tr>\n",
       "      <th>1</th>\n",
       "      <td>Feeling disappointed that my favorite team los...</td>\n",
       "      <td>Climate change is one of the most pressing iss...</td>\n",
       "      <td>[(pressing issues facing, 0.004999821319830055...</td>\n",
       "    </tr>\n",
       "    <tr>\n",
       "      <th>2</th>\n",
       "      <td>Feeling incredibly grateful for all the amazin...</td>\n",
       "      <td>Space exploration has captivated human imagina...</td>\n",
       "      <td>[(captivated human imagination, 0.005220432820...</td>\n",
       "    </tr>\n",
       "    <tr>\n",
       "      <th>3</th>\n",
       "      <td>Just finished reading this book and I'm blown ...</td>\n",
       "      <td>Mental health is a critical aspect of overall ...</td>\n",
       "      <td>[(Mental health, 0.02155605952392398), (critic...</td>\n",
       "    </tr>\n",
       "    <tr>\n",
       "      <th>4</th>\n",
       "      <td>It's Friday! Time to unwind, relax, and enjoy ...</td>\n",
       "      <td>Sustainable development is an approach that se...</td>\n",
       "      <td>[(seeks to meet, 0.02630005609035317), (approa...</td>\n",
       "    </tr>\n",
       "    <tr>\n",
       "      <th>5</th>\n",
       "      <td>Today's workout was intense, but I feel accomp...</td>\n",
       "      <td>Artificial intelligence (AI) has emerged as a ...</td>\n",
       "      <td>[(required human intelligence, 0.0018194793656...</td>\n",
       "    </tr>\n",
       "    <tr>\n",
       "      <th>6</th>\n",
       "      <td>Indulging in some homemade comfort food on thi...</td>\n",
       "      <td>Genetic engineering has revolutionized the fie...</td>\n",
       "      <td>[(DNA of organisms, 0.010241436919687224), (ma...</td>\n",
       "    </tr>\n",
       "    <tr>\n",
       "      <th>7</th>\n",
       "      <td>Feeling a bit down, but grateful for the littl...</td>\n",
       "      <td>In an increasingly interconnected world, cyber...</td>\n",
       "      <td>[(increasingly interconnected world, 0.0031057...</td>\n",
       "    </tr>\n",
       "    <tr>\n",
       "      <th>8</th>\n",
       "      <td>Had a challenging workout today, but sore musc...</td>\n",
       "      <td>\\nArtificial Intelligence (AI) is a rapidly ad...</td>\n",
       "      <td>[(required human intelligence, 0.0022002722715...</td>\n",
       "    </tr>\n",
       "    <tr>\n",
       "      <th>9</th>\n",
       "      <td>Feeling a bit overwhelmed with deadlines</td>\n",
       "      <td>Blockchain technology is a decentralized and t...</td>\n",
       "      <td>[(immutable transactions, 0.019410917425477018...</td>\n",
       "    </tr>\n",
       "  </tbody>\n",
       "</table>\n",
       "</div>"
      ],
      "text/plain": [
       "                                              Tweets                                         Paragraphs                      Keyword Extraction Paragraphs\n",
       "0  Just witnessed the most beautiful sunset. Natu...  Technology has revolutionized the way we live,...  [(work, 0.08258108170856804), (live, 0.1091471...\n",
       "1  Feeling disappointed that my favorite team los...  Climate change is one of the most pressing iss...  [(pressing issues facing, 0.004999821319830055...\n",
       "2  Feeling incredibly grateful for all the amazin...  Space exploration has captivated human imagina...  [(captivated human imagination, 0.005220432820...\n",
       "3  Just finished reading this book and I'm blown ...  Mental health is a critical aspect of overall ...  [(Mental health, 0.02155605952392398), (critic...\n",
       "4  It's Friday! Time to unwind, relax, and enjoy ...  Sustainable development is an approach that se...  [(seeks to meet, 0.02630005609035317), (approa...\n",
       "5  Today's workout was intense, but I feel accomp...  Artificial intelligence (AI) has emerged as a ...  [(required human intelligence, 0.0018194793656...\n",
       "6  Indulging in some homemade comfort food on thi...  Genetic engineering has revolutionized the fie...  [(DNA of organisms, 0.010241436919687224), (ma...\n",
       "7  Feeling a bit down, but grateful for the littl...  In an increasingly interconnected world, cyber...  [(increasingly interconnected world, 0.0031057...\n",
       "8  Had a challenging workout today, but sore musc...  \\nArtificial Intelligence (AI) is a rapidly ad...  [(required human intelligence, 0.0022002722715...\n",
       "9           Feeling a bit overwhelmed with deadlines  Blockchain technology is a decentralized and t...  [(immutable transactions, 0.019410917425477018..."
      ]
     },
     "execution_count": 38,
     "metadata": {},
     "output_type": "execute_result"
    }
   ],
   "source": [
    "df"
   ]
  },
  {
   "cell_type": "code",
   "execution_count": 47,
   "metadata": {},
   "outputs": [],
   "source": [
    "from transformers import pipeline\n",
    "def transformer_summarizer(text):\n",
    "    summarizer = pipeline(\"summarization\", model=\"Alred/t5-small-finetuned-summarization-cnn-ver3\", tokenizer=\"Alred/t5-small-finetuned-summarization-cnn-ver3\")\n",
    "    summary = summarizer(text, min_length=5, max_length=40)[0]['summary_text']\n",
    "    return summary"
   ]
  },
  {
   "cell_type": "code",
   "execution_count": 51,
   "metadata": {},
   "outputs": [
    {
     "name": "stderr",
     "output_type": "stream",
     "text": [
      "Device set to use cpu\n",
      "Device set to use cpu\n",
      "Device set to use cpu\n",
      "Device set to use cpu\n",
      "Device set to use cpu\n",
      "Device set to use cpu\n",
      "Device set to use cpu\n",
      "Device set to use cpu\n",
      "Device set to use cpu\n",
      "Device set to use cpu\n"
     ]
    }
   ],
   "source": [
    "df['summary'] = df['Paragraphs'].apply(transformer_summarizer)"
   ]
  },
  {
   "cell_type": "code",
   "execution_count": 52,
   "metadata": {},
   "outputs": [
    {
     "name": "stdout",
     "output_type": "stream",
     "text": [
      "0                                                                                          Technology has revolutionized the way we live, work, and communicate . Innovations have raised concerns about privacy, cybersecurity, and the impact on jobs .\n",
      "1                                                      Climate change is one of the most pressing issues facing our planet today . The burning of fossil fuels, deforestation, and industrial activities have led to a significant increase in greenhouse\n",
      "2                                                                                     Space exploration has captivated human imagination for centuries . From the first human landing on the moon to the discovery of exoplanets in distant galaxies . It\n",
      "3                                                        Mental health disorders are common and can have a significant impact on individuals and their families . It is important to prioritize mental health and promote awareness, early intervention .\n",
      "4                                                          Sustainable development is an approach that seeks to meet the needs of the present . It involves finding a balance between economic growth, social development, and environmental protection .\n",
      "5                                                                                          AI algorithms can analyze vast amounts of data, recognize patterns, make predictions . Applications of AI range from virtual assistants to medical diagnosis .\n",
      "6    Genetic engineering has revolutionized the field of biology by allowing scientists to manipulate the DNA of organisms . This technology offers unprecedented opportunities to modify genetic traits, develop new medicines, and enhance agricultural\n",
      "7          Cybersecurity involves protecting computer systems, networks, data from unauthorized access, theft, or damage . The proliferation of digital technologies and the internet have made individuals, organizations, and governments vulnerable to\n",
      "8                                        AI is a rapidly advancing field of technology that aims to develop intelligent machines capable of performing tasks that traditionally required human intelligence . It encompasses a wide range of disciplines,\n",
      "9                    Originally developed for cryptocurrencies like Bitcoin, blockchain technology has found applications beyond finance . It has the potential to transform industries such as supply chain management, healthcare, and voting systems .\n",
      "Name: summary, dtype: object\n"
     ]
    }
   ],
   "source": [
    "##print complete summary from dataframe with no printing limits\n",
    "# pd.set_option('display.max_rows', 500, False)\n",
    "\n",
    "print(df['summary'])"
   ]
  },
  {
   "cell_type": "code",
   "execution_count": null,
   "metadata": {},
   "outputs": [],
   "source": []
  }
 ],
 "metadata": {
  "kernelspec": {
   "display_name": "nlp",
   "language": "python",
   "name": "python3"
  },
  "language_info": {
   "codemirror_mode": {
    "name": "ipython",
    "version": 3
   },
   "file_extension": ".py",
   "mimetype": "text/x-python",
   "name": "python",
   "nbconvert_exporter": "python",
   "pygments_lexer": "ipython3",
   "version": "3.10.0"
  },
  "orig_nbformat": 4
 },
 "nbformat": 4,
 "nbformat_minor": 2
}
